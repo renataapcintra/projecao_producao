{
  "cells": [
    {
      "cell_type": "markdown",
      "metadata": {
        "id": "view-in-github",
        "colab_type": "text"
      },
      "source": [
        "<a href=\"https://colab.research.google.com/github/renataapcintra/projecao_producao/blob/main/dashboard_logistico_preview.ipynb\" target=\"_parent\"><img src=\"https://colab.research.google.com/assets/colab-badge.svg\" alt=\"Open In Colab\"/></a>"
      ]
    },
    {
      "cell_type": "code",
      "source": [
        "import numpy as np\n",
        "import pandas as pd\n",
        "from scipy.optimize import curve_fit\n",
        "import matplotlib.pyplot as plt\n",
        "from ipywidgets import interact, FloatSlider, IntSlider, Dropdown\n",
        "from IPython.display import display\n",
        "\n",
        "# Dados\n",
        "anos = list(range(1988, 2023))\n",
        "dados_culturas = {\n",
        "    'Arroz': [4786, 4936, 4575, 4737, 5091, 5058, 4332, 5094, 5048, 5102, 4317, 5689, 5275, 5534, 5590, 4883, 6070, 6067, 6631, 6737, 6886, 7187, 6448, 7648, 7405, 7473, 7402, 7738, 7053, 7925, 7870, 7417, 8165, 8736, 8199],\n",
        "    'Milho': [1567, 2279, 2404, 1139, 2756, 2644, 2760, 3151, 2149, 2535, 2960, 2422, 2647, 3666, 2737, 3833, 2815, 1537, 3226, 4378, 3811, 3174, 4904, 5250, 3133, 5398, 5831, 6509, 6406, 7298, 6539, 7519, 5678, 5656, 3877],\n",
        "    'Soja': [1057, 1716, 1795, 712, 1963, 1971, 1708, 1945, 1698, 1616, 2037, 1464, 1593, 2337, 1702, 2667, 1396, 654, 1956, 2552, 2019, 2099, 2611, 2876, 1430, 2698, 2615, 2983, 2982, 3385, 3104, 3179, 1890, 3343, 1508],\n",
        "    'Trigo': [1527, 1808, 1182, 1105, 1855, 1533, 1456, 1237, 1715, 1252, 1427, 1828, 1593, 1754, 1418, 2253, 1832, 1645, 1355, 2030, 2266, 2234, 2688, 2944, 1941, 3164, 1415, 1592, 3265, 1728, 2467, 3007, 2209, 2880, 3458]\n",
        "}\n",
        "\n",
        "# Preparar os dados para o modelo\n",
        "df = pd.DataFrame(dados_culturas, index=anos)\n",
        "\n",
        "# Dicionário de cores\n",
        "cores = {\n",
        "    'Arroz': 'blue',\n",
        "    'Milho': 'orange',\n",
        "    'Soja': 'green',\n",
        "    'Trigo': 'red'\n",
        "}\n",
        "\n",
        "# Função de crescimento logístico\n",
        "def logistic_function(x, L, k, x0):\n",
        "    return L / (1 + np.exp(-k * (x - x0)))\n",
        "\n",
        "# Função para plotar os dados e o ajuste logístico\n",
        "def plot_logistic(cultura, L, k, x0, last_year):\n",
        "    plt.figure(figsize=(10, 6))\n",
        "    cor = cores[cultura]\n",
        "    plt.plot(df.index.values, df[cultura].values, marker='o', color=cor, label=f'{cultura} - Observado')\n",
        "    # Ajustar modelo logístico aos dados observados\n",
        "    popt, _ = curve_fit(logistic_function, df.index.values, df[cultura].values, maxfev=10000, p0=[max(df[cultura].values), 0.1, anos[len(anos)//2]])\n",
        "    # Prever valores para o intervalo completo de anos\n",
        "    anos_completos = list(range(min(anos), last_year + 1))\n",
        "    projecao = logistic_function(np.array(anos_completos), L, k, x0)\n",
        "    plt.plot(anos_completos, projecao, '--', color=cor, label=f'{cultura} - Projetado')\n",
        "    plt.title(f'Rendimento médio da produção de {cultura} (1988-{last_year})')\n",
        "    plt.xlabel('Ano')\n",
        "    plt.ylabel('Quilogramas por Hectare')\n",
        "    plt.legend()\n",
        "    plt.grid(True)\n",
        "    plt.xticks(rotation=45)\n",
        "    plt.tight_layout()\n",
        "    plt.show()\n",
        "\n",
        "# Criação dos sliders interativos e dropdown para escolher a cultura\n",
        "cultura_dropdown = Dropdown(options=df.columns.tolist(), value='Arroz', description='Cultura')\n",
        "L_slider = FloatSlider(value=max(df['Arroz']) * 1.1, min=0, max=max(df.max()) * 20, step=100, description='L')\n",
        "k_slider = FloatSlider(value=0.1, min=0.01, max=10, step=0.01, description='k')\n",
        "x0_slider = FloatSlider(value=anos[len(anos)//2], min=anos[0], max=anos[-1], step=1, description='x0')\n",
        "last_year_slider = IntSlider(value=2100, min=2023, max=2300, step=1, description='Last Year')\n",
        "\n",
        "def update_sliders(*args):\n",
        "    cultura = cultura_dropdown.value\n",
        "    L_slider.value = max(df[cultura]) * 1.1\n",
        "cultura_dropdown.observe(update_sliders, 'value')\n",
        "\n",
        "interact(plot_logistic, cultura=cultura_dropdown, L=L_slider, k=k_slider, x0=x0_slider, last_year=last_year_slider)"
      ],
      "metadata": {
        "colab": {
          "base_uri": "https://localhost:8080/",
          "height": 854,
          "referenced_widgets": [
            "a3582219d2cf44628869ecc202976728",
            "4077dfca3959425dbc15269563758acb",
            "d21ff52834274354b812bbf736376fc8",
            "091b8816e7b74498a28b0d7627e9445e",
            "a5c70db4e7144e79975f671c56e0c37a",
            "ee90390e6cbe49de934f68856a0a0073",
            "b5f9b5a1aa7d44808a34e44b6aeb7a60",
            "1204e6686aef4292a3268e99e5cd06c7",
            "fbfbe0e4b37245b9b529e0724a0e8fa7",
            "516cfff60ea8465185de43904ae63995",
            "254a835807644624a4f1b0a9aa4abafd",
            "2894d77c35fb4570b790874eca60670e",
            "942dd94bc8444976b032d30e6fb68841",
            "917a237322234ed68c6e42a7955b24b1",
            "533c044eebd64c8c9c0fb78539254372",
            "b5145cb07ee74e17ba3627de650ff503",
            "0fb57d57fd4c456a9ed76a2818e94bb7",
            "61c210a2220640be9d12d0fa6d12af29",
            "4a3cf170a1e14c5d9a681abdb6aceb7a"
          ]
        },
        "id": "cTY0IwcFIWTr",
        "outputId": "be114fa8-03a9-4c13-f063-5644010e59ab"
      },
      "id": "cTY0IwcFIWTr",
      "execution_count": null,
      "outputs": [
        {
          "output_type": "display_data",
          "data": {
            "text/plain": [
              "interactive(children=(Dropdown(description='Cultura', options=('Arroz', 'Milho', 'Soja', 'Trigo'), value='Arro…"
            ],
            "application/vnd.jupyter.widget-view+json": {
              "version_major": 2,
              "version_minor": 0,
              "model_id": "a3582219d2cf44628869ecc202976728"
            }
          },
          "metadata": {}
        },
        {
          "output_type": "execute_result",
          "data": {
            "text/plain": [
              "<function __main__.plot_logistic(cultura, L, k, x0, last_year)>"
            ],
            "text/html": [
              "<div style=\"max-width:800px; border: 1px solid var(--colab-border-color);\"><style>\n",
              "      pre.function-repr-contents {\n",
              "        overflow-x: auto;\n",
              "        padding: 8px 12px;\n",
              "        max-height: 500px;\n",
              "      }\n",
              "\n",
              "      pre.function-repr-contents.function-repr-contents-collapsed {\n",
              "        cursor: pointer;\n",
              "        max-height: 100px;\n",
              "      }\n",
              "    </style>\n",
              "    <pre style=\"white-space: initial; background:\n",
              "         var(--colab-secondary-surface-color); padding: 8px 12px;\n",
              "         border-bottom: 1px solid var(--colab-border-color);\"><b>plot_logistic</b><br/>def plot_logistic(cultura, L, k, x0, last_year)</pre><pre class=\"function-repr-contents function-repr-contents-collapsed\" style=\"\"><a class=\"filepath\" style=\"display:none\" href=\"#\">/tmp/ipython-input-1143146401.py</a>&lt;no docstring&gt;</pre></div>"
            ]
          },
          "metadata": {},
          "execution_count": 1
        }
      ]
    }
  ],
  "metadata": {
    "colab": {
      "provenance": [],
      "include_colab_link": true
    },
    "language_info": {
      "name": "python"
    },
    "kernelspec": {
      "name": "python3",
      "display_name": "Python 3"
    }
  },
  "nbformat": 4,
  "nbformat_minor": 5
}